{
 "cells": [
  {
   "cell_type": "markdown",
   "id": "e85c3cf3",
   "metadata": {},
   "source": [
    "The pipeline takes a string of text (or a list of strings) as input and returns a list of predictions\n",
    "\n",
    "Each prediction is a Python dictionary,"
   ]
  },
  {
   "cell_type": "code",
   "execution_count": null,
   "id": "dc629b12",
   "metadata": {},
   "outputs": [],
   "source": [
    "from transformers import pipeline\n",
    "\n",
    "text = '''\n",
    "Hey Jack, I just wanted to flag something with you. Last week when you \n",
    "said that you didn't want to watch the move Twilight with me, even in jest, it kind \n",
    "of got under my skin. I mainly feel like it's hypocritical when you make me watch basketball\n",
    "games with you and our main activity together is watching sports on TV. I just wanted to get \n",
    "it off my chest. From Sophie\n",
    "'''"
   ]
  },
  {
   "cell_type": "code",
   "execution_count": null,
   "id": "5a251708",
   "metadata": {},
   "outputs": [],
   "source": [
    "# Sentiment classification\n",
    "classifier = pipeline(\n",
    "    \"text-classification\", \n",
    "    model=\"distilbert-base-uncased-finetuned-sst-2-english\",\n",
    ")\n",
    "outputs = classifier(text)\n",
    "outputs"
   ]
  },
  {
   "cell_type": "code",
   "execution_count": null,
   "id": "8259620a",
   "metadata": {},
   "outputs": [],
   "source": [
    "# Named-entity recognition\n",
    "ner_tagger = pipeline(\n",
    "    \"ner\", \n",
    "    aggregation_strategy=\"simple\", \n",
    "    model=\"dbmdz/bert-large-cased-finetuned-conll03-english\",\n",
    ")\n",
    "outputs = ner_tagger(text)\n",
    "outputs"
   ]
  },
  {
   "cell_type": "code",
   "execution_count": null,
   "id": "ba4b325f",
   "metadata": {},
   "outputs": [],
   "source": [
    "# Question answering\n",
    "reader = pipeline(\n",
    "    \"question-answering\", \n",
    "    model=\"distilbert-base-cased-distilled-squad\",\n",
    ")\n",
    "question = \"What movie did Jack not watch?\"\n",
    "outputs = reader(question=question, context=text)\n",
    "outputs"
   ]
  },
  {
   "cell_type": "code",
   "execution_count": null,
   "id": "842882f2",
   "metadata": {},
   "outputs": [],
   "source": [
    "# Summarization\n",
    "summarizer = pipeline(\n",
    "    \"summarization\", \n",
    "    model=\"sshleifer/distilbart-cnn-12-6\",\n",
    ")\n",
    "outputs = summarizer(text, max_length=45, clean_up_tokenization_spaces=True)\n",
    "print(outputs[0]['summary_text'])"
   ]
  },
  {
   "cell_type": "code",
   "execution_count": null,
   "id": "1df1cff9",
   "metadata": {},
   "outputs": [],
   "source": [
    "# Text generation\n",
    "generator = pipeline(\n",
    "    \"text-generation\",\n",
    ")\n",
    "prompt = text + \"\\n\\nJack apology to Sophie:\\n\\nDear Sophie, I am sorry I didn't\"\n",
    "outputs = generator(prompt, max_length=200)\n",
    "print(outputs[0]['generated_text'])"
   ]
  }
 ],
 "metadata": {
  "kernelspec": {
   "display_name": "Python 3 (ipykernel)",
   "language": "python",
   "name": "python3"
  },
  "language_info": {
   "codemirror_mode": {
    "name": "ipython",
    "version": 3
   },
   "file_extension": ".py",
   "mimetype": "text/x-python",
   "name": "python",
   "nbconvert_exporter": "python",
   "pygments_lexer": "ipython3",
   "version": "3.8.10"
  }
 },
 "nbformat": 4,
 "nbformat_minor": 5
}

{
 "cells": [
  {
   "cell_type": "code",
   "execution_count": null,
   "id": "bc9a7cee",
   "metadata": {},
   "outputs": [],
   "source": [
    "from transformers import pipeline"
   ]
  },
  {
   "cell_type": "code",
   "execution_count": 3,
   "id": "dc629b12",
   "metadata": {},
   "outputs": [],
   "source": [
    "text = '''\n",
    "Hey Jack, I just wanted to flag something with you. Last week when you \n",
    "said that you didn't want to watch the move Twilight with me, even in jest, it kind \n",
    "of got under my skin. I mainly feel like it's hypocritical when you make me watch basketball\n",
    "games with you and our main activity together is watching sports on TV. I just wanted to get \n",
    "it off my chest. From Sophie\n",
    "'''"
   ]
  },
  {
   "cell_type": "markdown",
   "id": "6dd1f92e",
   "metadata": {},
   "source": [
    "# Traditional ML tasks"
   ]
  },
  {
   "cell_type": "code",
   "execution_count": 4,
   "id": "5a251708",
   "metadata": {},
   "outputs": [
    {
     "data": {
      "application/vnd.jupyter.widget-view+json": {
       "model_id": "0c35c1ef03ed49beaa4200fe069e2d42",
       "version_major": 2,
       "version_minor": 0
      },
      "text/plain": [
       "Downloading (…)lve/main/config.json:   0%|          | 0.00/629 [00:00<?, ?B/s]"
      ]
     },
     "metadata": {},
     "output_type": "display_data"
    },
    {
     "data": {
      "application/vnd.jupyter.widget-view+json": {
       "model_id": "34bcde23de394c598f1ebf183e8cd078",
       "version_major": 2,
       "version_minor": 0
      },
      "text/plain": [
       "Downloading pytorch_model.bin:   0%|          | 0.00/268M [00:00<?, ?B/s]"
      ]
     },
     "metadata": {},
     "output_type": "display_data"
    },
    {
     "data": {
      "application/vnd.jupyter.widget-view+json": {
       "model_id": "be6a26cefd8449c0b14bab5fe58b0fd3",
       "version_major": 2,
       "version_minor": 0
      },
      "text/plain": [
       "Downloading (…)okenizer_config.json:   0%|          | 0.00/48.0 [00:00<?, ?B/s]"
      ]
     },
     "metadata": {},
     "output_type": "display_data"
    },
    {
     "data": {
      "application/vnd.jupyter.widget-view+json": {
       "model_id": "7e4815d0d8fb4ba0a4f389cb64b4f4ed",
       "version_major": 2,
       "version_minor": 0
      },
      "text/plain": [
       "Downloading (…)solve/main/vocab.txt:   0%|          | 0.00/232k [00:00<?, ?B/s]"
      ]
     },
     "metadata": {},
     "output_type": "display_data"
    },
    {
     "data": {
      "text/plain": [
       "[{'label': 'NEGATIVE', 'score': 0.9129859209060669}]"
      ]
     },
     "execution_count": 4,
     "metadata": {},
     "output_type": "execute_result"
    }
   ],
   "source": [
    "# Sentiment classification\n",
    "classifier = pipeline(\n",
    "    \"text-classification\", \n",
    "    model=\"distilbert-base-uncased-finetuned-sst-2-english\",\n",
    ")\n",
    "outputs = classifier(text)\n",
    "outputs"
   ]
  },
  {
   "cell_type": "markdown",
   "id": "ba1db509",
   "metadata": {},
   "source": [
    "# Cool modern stuff"
   ]
  },
  {
   "cell_type": "code",
   "execution_count": 5,
   "id": "8259620a",
   "metadata": {},
   "outputs": [
    {
     "data": {
      "application/vnd.jupyter.widget-view+json": {
       "model_id": "3f10be0e6a254058aadc096ccbb88854",
       "version_major": 2,
       "version_minor": 0
      },
      "text/plain": [
       "Downloading (…)lve/main/config.json:   0%|          | 0.00/998 [00:00<?, ?B/s]"
      ]
     },
     "metadata": {},
     "output_type": "display_data"
    },
    {
     "data": {
      "application/vnd.jupyter.widget-view+json": {
       "model_id": "9490988c900e4028b22f94baff93cba0",
       "version_major": 2,
       "version_minor": 0
      },
      "text/plain": [
       "Downloading pytorch_model.bin:   0%|          | 0.00/1.33G [00:00<?, ?B/s]"
      ]
     },
     "metadata": {},
     "output_type": "display_data"
    },
    {
     "data": {
      "application/vnd.jupyter.widget-view+json": {
       "model_id": "3814444cd6a640f7b15f062721c009fb",
       "version_major": 2,
       "version_minor": 0
      },
      "text/plain": [
       "Downloading (…)okenizer_config.json:   0%|          | 0.00/60.0 [00:00<?, ?B/s]"
      ]
     },
     "metadata": {},
     "output_type": "display_data"
    },
    {
     "data": {
      "application/vnd.jupyter.widget-view+json": {
       "model_id": "b616db1ab4924c8184db1199323fc55e",
       "version_major": 2,
       "version_minor": 0
      },
      "text/plain": [
       "Downloading (…)solve/main/vocab.txt:   0%|          | 0.00/213k [00:00<?, ?B/s]"
      ]
     },
     "metadata": {},
     "output_type": "display_data"
    },
    {
     "data": {
      "text/plain": [
       "[{'entity_group': 'PER',\n",
       "  'score': 0.98911256,\n",
       "  'word': 'Jack',\n",
       "  'start': 5,\n",
       "  'end': 9},\n",
       " {'entity_group': 'MISC',\n",
       "  'score': 0.99652916,\n",
       "  'word': 'Twilight',\n",
       "  'start': 117,\n",
       "  'end': 125},\n",
       " {'entity_group': 'PER',\n",
       "  'score': 0.61472356,\n",
       "  'word': 'Sophie',\n",
       "  'start': 367,\n",
       "  'end': 373}]"
      ]
     },
     "execution_count": 5,
     "metadata": {},
     "output_type": "execute_result"
    }
   ],
   "source": [
    "# Named-entity recognition\n",
    "ner_tagger = pipeline(\n",
    "    \"ner\", \n",
    "    aggregation_strategy=\"simple\", \n",
    "    model=\"dbmdz/bert-large-cased-finetuned-conll03-english\",\n",
    ")\n",
    "outputs = ner_tagger(text)\n",
    "outputs"
   ]
  },
  {
   "cell_type": "code",
   "execution_count": 6,
   "id": "ba4b325f",
   "metadata": {},
   "outputs": [
    {
     "data": {
      "application/vnd.jupyter.widget-view+json": {
       "model_id": "3c03d780127a46108f923cc32ffce9e1",
       "version_major": 2,
       "version_minor": 0
      },
      "text/plain": [
       "Downloading (…)lve/main/config.json:   0%|          | 0.00/473 [00:00<?, ?B/s]"
      ]
     },
     "metadata": {},
     "output_type": "display_data"
    },
    {
     "data": {
      "application/vnd.jupyter.widget-view+json": {
       "model_id": "14568eb54f3a4e3090c3331db1128234",
       "version_major": 2,
       "version_minor": 0
      },
      "text/plain": [
       "Downloading pytorch_model.bin:   0%|          | 0.00/261M [00:00<?, ?B/s]"
      ]
     },
     "metadata": {},
     "output_type": "display_data"
    },
    {
     "data": {
      "application/vnd.jupyter.widget-view+json": {
       "model_id": "64542d4bc6704101928bd592aebd9bc9",
       "version_major": 2,
       "version_minor": 0
      },
      "text/plain": [
       "Downloading (…)okenizer_config.json:   0%|          | 0.00/29.0 [00:00<?, ?B/s]"
      ]
     },
     "metadata": {},
     "output_type": "display_data"
    },
    {
     "data": {
      "application/vnd.jupyter.widget-view+json": {
       "model_id": "a8925cb6a1ed45e2a238b645229bf94a",
       "version_major": 2,
       "version_minor": 0
      },
      "text/plain": [
       "Downloading (…)solve/main/vocab.txt:   0%|          | 0.00/213k [00:00<?, ?B/s]"
      ]
     },
     "metadata": {},
     "output_type": "display_data"
    },
    {
     "data": {
      "application/vnd.jupyter.widget-view+json": {
       "model_id": "0c629c164be645cebc547e026f218402",
       "version_major": 2,
       "version_minor": 0
      },
      "text/plain": [
       "Downloading (…)/main/tokenizer.json:   0%|          | 0.00/436k [00:00<?, ?B/s]"
      ]
     },
     "metadata": {},
     "output_type": "display_data"
    },
    {
     "data": {
      "text/plain": [
       "{'score': 0.9831924438476562, 'start': 117, 'end': 125, 'answer': 'Twilight'}"
      ]
     },
     "execution_count": 6,
     "metadata": {},
     "output_type": "execute_result"
    }
   ],
   "source": [
    "# Question answering\n",
    "reader = pipeline(\n",
    "    \"question-answering\", \n",
    "    model=\"distilbert-base-cased-distilled-squad\",\n",
    ")\n",
    "question = \"What movie did Jack not watch?\"\n",
    "outputs = reader(question=question, context=text)\n",
    "outputs"
   ]
  },
  {
   "cell_type": "code",
   "execution_count": 8,
   "id": "842882f2",
   "metadata": {},
   "outputs": [
    {
     "name": "stdout",
     "output_type": "stream",
     "text": [
      " Sophie: \"I just wanted to get  it off my chest. I mainly feel like it's hypocritical when you make me watch basketball games with you and our main activity together is watching sports on TV\" Sophie says she feels hypocritical when she and Jack watch sports together.\n"
     ]
    }
   ],
   "source": [
    "# Summarization\n",
    "summarizer = pipeline(\n",
    "    \"summarization\", \n",
    "    model=\"sshleifer/distilbart-cnn-12-6\",\n",
    ")\n",
    "outputs = summarizer(text, max_length=60, clean_up_tokenization_spaces=True)\n",
    "print(outputs[0]['summary_text'])"
   ]
  },
  {
   "cell_type": "code",
   "execution_count": 9,
   "id": "1df1cff9",
   "metadata": {},
   "outputs": [
    {
     "name": "stderr",
     "output_type": "stream",
     "text": [
      "No model was supplied, defaulted to gpt2 and revision 6c0e608 (https://huggingface.co/gpt2).\n",
      "Using a pipeline without specifying a model name and revision in production is not recommended.\n"
     ]
    },
    {
     "data": {
      "application/vnd.jupyter.widget-view+json": {
       "model_id": "1ca5a7a5f24747dc8ac1da7cfada5620",
       "version_major": 2,
       "version_minor": 0
      },
      "text/plain": [
       "Downloading (…)lve/main/config.json:   0%|          | 0.00/665 [00:00<?, ?B/s]"
      ]
     },
     "metadata": {},
     "output_type": "display_data"
    },
    {
     "data": {
      "application/vnd.jupyter.widget-view+json": {
       "model_id": "b6bcb989fff641fda9af4544ce23588d",
       "version_major": 2,
       "version_minor": 0
      },
      "text/plain": [
       "Downloading pytorch_model.bin:   0%|          | 0.00/548M [00:00<?, ?B/s]"
      ]
     },
     "metadata": {},
     "output_type": "display_data"
    },
    {
     "data": {
      "application/vnd.jupyter.widget-view+json": {
       "model_id": "e39fd7f7db954c76ba79e548780eb992",
       "version_major": 2,
       "version_minor": 0
      },
      "text/plain": [
       "Downloading (…)neration_config.json:   0%|          | 0.00/124 [00:00<?, ?B/s]"
      ]
     },
     "metadata": {},
     "output_type": "display_data"
    },
    {
     "data": {
      "application/vnd.jupyter.widget-view+json": {
       "model_id": "d04f002c31eb488b8f4ea6eed42208b7",
       "version_major": 2,
       "version_minor": 0
      },
      "text/plain": [
       "Downloading (…)olve/main/vocab.json:   0%|          | 0.00/1.04M [00:00<?, ?B/s]"
      ]
     },
     "metadata": {},
     "output_type": "display_data"
    },
    {
     "data": {
      "application/vnd.jupyter.widget-view+json": {
       "model_id": "5430308439a743d39c55fa2aa0df4fe7",
       "version_major": 2,
       "version_minor": 0
      },
      "text/plain": [
       "Downloading (…)olve/main/merges.txt:   0%|          | 0.00/456k [00:00<?, ?B/s]"
      ]
     },
     "metadata": {},
     "output_type": "display_data"
    },
    {
     "data": {
      "application/vnd.jupyter.widget-view+json": {
       "model_id": "fbe09965ba184b96a378367a713d4a02",
       "version_major": 2,
       "version_minor": 0
      },
      "text/plain": [
       "Downloading (…)/main/tokenizer.json:   0%|          | 0.00/1.36M [00:00<?, ?B/s]"
      ]
     },
     "metadata": {},
     "output_type": "display_data"
    },
    {
     "name": "stderr",
     "output_type": "stream",
     "text": [
      "/usr/local/lib/python3.8/dist-packages/transformers/generation/utils.py:1219: UserWarning: You have modified the pretrained model configuration to control generation. This is a deprecated strategy to control generation and will be removed soon, in a future version. Please use a generation configuration file (see https://huggingface.co/docs/transformers/main_classes/text_generation)\n",
      "  warnings.warn(\n",
      "Setting `pad_token_id` to `eos_token_id`:50256 for open-end generation.\n"
     ]
    },
    {
     "name": "stdout",
     "output_type": "stream",
     "text": [
      "\n",
      "Hey Jack, I just wanted to flag something with you. Last week when you \n",
      "said that you didn't want to watch the move Twilight with me, even in jest, it kind \n",
      "of got under my skin. I mainly feel like it's hypocritical when you make me watch basketball\n",
      "games with you and our main activity together is watching sports on TV. I just wanted to get \n",
      "it off my chest. From Sophie\n",
      "\n",
      "\n",
      "Jack apology to Sophie:\n",
      "\n",
      "Dear Sophie, I am sorry I didn't see it coming. I am just so sorry about\n",
      "\n",
      "being stuck in a relationship that is so intense. I feel very guilty about\n",
      "\n",
      "playing the game of basketball with your brother since I'm so little. I've\n",
      "\n",
      "never been an NBA fan, but watching basketball and soccer this year is great\n",
      "\n",
      "together. I am so sorry I didn't see it coming. I am so stabty and you aren't going out\n",
      "\n",
      "for practice\n"
     ]
    }
   ],
   "source": [
    "# Text generation\n",
    "generator = pipeline(\n",
    "    \"text-generation\",\n",
    ")\n",
    "prompt = text + \"\\n\\nJack apology to Sophie:\\n\\nDear Sophie, I am sorry I didn't\"\n",
    "outputs = generator(prompt, max_length=200)\n",
    "print(outputs[0]['generated_text'])"
   ]
  },
  {
   "cell_type": "markdown",
   "id": "7c1c6813",
   "metadata": {},
   "source": [
    "# Multimodal"
   ]
  },
  {
   "cell_type": "code",
   "execution_count": 3,
   "id": "8ea1924e",
   "metadata": {},
   "outputs": [
    {
     "name": "stderr",
     "output_type": "stream",
     "text": [
      "Could not find image processor class in the image processor config or the model config. Loading based on pattern matching with the model's feature extractor configuration.\n"
     ]
    },
    {
     "data": {
      "text/plain": [
       "[{'generated_text': 'two birds are standing next to each other '}]"
      ]
     },
     "execution_count": 3,
     "metadata": {},
     "output_type": "execute_result"
    }
   ],
   "source": [
    "image_to_text = pipeline(\n",
    "    \"image-to-text\", \n",
    "    model=\"nlpconnect/vit-gpt2-image-captioning\",\n",
    ")\n",
    "\n",
    "outputs = image_to_text(\"https://huggingface.co/datasets/Narsil/image_dummy/raw/main/parrots.png\")\n",
    "outputs"
   ]
  }
 ],
 "metadata": {
  "kernelspec": {
   "display_name": "Python 3 (ipykernel)",
   "language": "python",
   "name": "python3"
  },
  "language_info": {
   "codemirror_mode": {
    "name": "ipython",
    "version": 3
   },
   "file_extension": ".py",
   "mimetype": "text/x-python",
   "name": "python",
   "nbconvert_exporter": "python",
   "pygments_lexer": "ipython3",
   "version": "3.8.10"
  }
 },
 "nbformat": 4,
 "nbformat_minor": 5
}
